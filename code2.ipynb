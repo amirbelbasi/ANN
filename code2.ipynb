{
  "nbformat": 4,
  "nbformat_minor": 0,
  "metadata": {
    "colab": {
      "provenance": [],
      "collapsed_sections": []
    },
    "kernelspec": {
      "name": "python3",
      "display_name": "Python 3"
    },
    "language_info": {
      "name": "python"
    },
    "accelerator": "GPU",
    "gpuClass": "standard"
  },
  "cells": [
    {
      "cell_type": "markdown",
      "source": [
        "# Import Libraries"
      ],
      "metadata": {
        "id": "vq5sNzGGi2Gf"
      }
    },
    {
      "cell_type": "code",
      "execution_count": null,
      "metadata": {
        "id": "iyyToMD1izQ4"
      },
      "outputs": [],
      "source": [
        "import torch\n",
        "import torch.nn as nn\n",
        "import torch.optim as optim\n",
        "import torchvision\n",
        "from torchvision import datasets, models, transforms\n",
        "import numpy as np\n",
        "import matplotlib.pyplot as plt\n",
        "import matplotlib.image as mpimg\n",
        "from tqdm.auto import tqdm\n",
        "import os"
      ]
    },
    {
      "cell_type": "markdown",
      "source": [
        "## For Google Colab Users\n",
        "\n",
        "This cell is for mounting your Google Drive to the Colab Notebook. If you are not using Google Colab, you can skip this cell"
      ],
      "metadata": {
        "id": "0kPei2V5aGFj"
      }
    },
    {
      "cell_type": "code",
      "source": [
        "from google.colab import drive\n",
        "drive.mount('/content/drive')"
      ],
      "metadata": {
        "id": "2d0lQY8oSaJ0"
      },
      "execution_count": null,
      "outputs": []
    },
    {
      "cell_type": "code",
      "source": [
        "# Check for GPU\n",
        "device = \"cuda\" if torch.cuda.is_available() else \"cpu\"\n",
        "\n",
        "# Check for GPU in mac\n",
        "# device = \"mps\" if torch.backends.mps.is_available() else \"cpu\"\n",
        "\n",
        "device"
      ],
      "metadata": {
        "id": "8gvAZZ9Fjv31"
      },
      "execution_count": null,
      "outputs": []
    },
    {
      "cell_type": "markdown",
      "source": [
        "# Data "
      ],
      "metadata": {
        "id": "sc1Ga5_MmtOT"
      }
    },
    {
      "cell_type": "markdown",
      "source": [
        "## Transforming Data"
      ],
      "metadata": {
        "id": "IE19W1MAv_6W"
      }
    },
    {
      "cell_type": "code",
      "source": [
        "data_transforms = {\n",
        "\n",
        "    'Training' : transforms.Compose([\n",
        "        transforms.RandomResizedCrop((224, 224)),\n",
        "        transforms.RandomHorizontalFlip(),\n",
        "        transforms.ToTensor()\n",
        "    ]),\n",
        "    'Testing': transforms.Compose([\n",
        "        transforms.Resize((224, 224)),\n",
        "        transforms.ToTensor()\n",
        "\n",
        "    ])\n",
        "}"
      ],
      "metadata": {
        "id": "eb0rjSZWmnlN"
      },
      "execution_count": null,
      "outputs": []
    },
    {
      "cell_type": "markdown",
      "source": [
        "## Loading Data"
      ],
      "metadata": {
        "id": "aEQ5zz64wRuM"
      }
    },
    {
      "cell_type": "code",
      "source": [
        "# directory: where training and testing data are\n",
        "base_path = os.getcwd()\n",
        "data_dir = os.path.join(base_path, 'dataset')\n",
        "\n",
        "### START CODE HERE\n",
        "\n",
        "# datasets.ImageFolder: (https://pytorch.org/vision/main/generated/torchvision.datasets.ImageFolder.html)\n",
        "# torch.utils.data.DataLoader: (https://pytorch.org/docs/stable/data.html#torch.utils.data.DataLoader)\n",
        "\n",
        "# image_datasets are dictionary of (type of dataset, dataloader)\n",
        "# type of dataset are training and testing\n",
        "image_datasets = {x: datasets.ImageFolder(os.path.join(data_dir, x), data_transforms[x]) for x in None}\n",
        "\n",
        "# DataLoader helps us for better performance and experience in data loading\n",
        "dataloaders = {x: torch.utils.data.DataLoader(image_datasets[x], batch_size=32, shuffle=True) for x in None}\n",
        "### END CODE HERE\n",
        "\n",
        "dataset_sizes = {x: len(image_datasets[x]) for x in None}\n",
        "class_names = image_datasets['Training'].classes\n",
        "\n",
        "dataset_sizes, class_names"
      ],
      "metadata": {
        "id": "79gT4HqIwh96"
      },
      "execution_count": null,
      "outputs": []
    },
    {
      "cell_type": "markdown",
      "source": [
        "## Samples of data"
      ],
      "metadata": {
        "id": "GImh9haJ0_CN"
      }
    },
    {
      "cell_type": "code",
      "source": [
        "samples, labels = next(iter(dataloaders['Testing']))\n",
        "plt.figure(figsize=(17, 10))\n",
        "plt.axis('off')\n",
        "for i in range(32):\n",
        "    plt.subplot(4, 8, i+1)\n",
        "    plt.imshow(samples[i].permute(1, 2, 0))\n",
        "    plt.title(class_names[labels[i]])\n",
        "    plt.axis('off')"
      ],
      "metadata": {
        "id": "iZzAK1l3y1Tk"
      },
      "execution_count": null,
      "outputs": []
    },
    {
      "cell_type": "markdown",
      "source": [
        "# Model"
      ],
      "metadata": {
        "id": "P3Q-LEGY1P_T"
      }
    },
    {
      "cell_type": "markdown",
      "source": [
        "## Loading Model"
      ],
      "metadata": {
        "id": "xlhrp8mU1mA-"
      }
    },
    {
      "cell_type": "code",
      "source": [
        "# Loading are pretrained model in this task our model is resnet50 (https://www.youtube.com/watch?v=mGMpHyiN5lk)\n",
        "### START CODE HERE\n",
        "\n",
        "# Loading pretrained model\n",
        "model = models.resnet50(pretrained=None)\n",
        "for param in model.parameters():\n",
        "    param.requires_grad = False\n",
        "### END CODE HERE\n",
        "model"
      ],
      "metadata": {
        "id": "xSBfR1g51oVi"
      },
      "execution_count": null,
      "outputs": []
    },
    {
      "cell_type": "markdown",
      "source": [
        "## Preparing Model"
      ],
      "metadata": {
        "id": "VGVAHQqE16mN"
      }
    },
    {
      "cell_type": "code",
      "source": [
        "### START CODE HERE\n",
        "\n",
        "# You have to change the (fc) layer of the model to compatible with your data\n",
        "model.fc = nn.Linear(model.fc.in_features, None)\n",
        "\n",
        "### END CODE HERE\n",
        "model = model.to(device)\n",
        "model"
      ],
      "metadata": {
        "id": "QIVyMWO111cV"
      },
      "execution_count": null,
      "outputs": []
    },
    {
      "cell_type": "markdown",
      "source": [
        "# Training"
      ],
      "metadata": {
        "id": "ybTYDJFw3Zvu"
      }
    },
    {
      "cell_type": "markdown",
      "source": [
        "## Loss function"
      ],
      "metadata": {
        "id": "nK2lRW9M3oqU"
      }
    },
    {
      "cell_type": "code",
      "source": [
        "criterion = nn.CrossEntropyLoss()"
      ],
      "metadata": {
        "id": "lKH6IFcj3sBy"
      },
      "execution_count": null,
      "outputs": []
    },
    {
      "cell_type": "markdown",
      "source": [
        "## Optimizer"
      ],
      "metadata": {
        "id": "TIN1OsTL32Lu"
      }
    },
    {
      "cell_type": "code",
      "source": [
        "# you have to change it for better performance\n",
        "optimizer = optim.Adam(model.parameters(), lr=None)"
      ],
      "metadata": {
        "id": "02TRqi3j3vBa"
      },
      "execution_count": null,
      "outputs": []
    },
    {
      "cell_type": "markdown",
      "source": [
        "## Others"
      ],
      "metadata": {
        "id": "n8Ulk0xEvIJN"
      }
    },
    {
      "cell_type": "code",
      "source": [
        "# you can have other thongs like learning rate scheduler and ..."
      ],
      "metadata": {
        "id": "5kCVzWjPvMh-"
      },
      "execution_count": null,
      "outputs": []
    },
    {
      "cell_type": "markdown",
      "source": [
        "## Train"
      ],
      "metadata": {
        "id": "_T4qQCAo37ZN"
      }
    },
    {
      "cell_type": "code",
      "source": [
        "### START CODE HERE\n",
        "\n",
        "losses = []\n",
        "EPOCH = None\n",
        "\n",
        "# for training part you have to set model to train mode\n",
        "model.train()\n",
        "\n",
        "# loop on epochs\n",
        "for e in tqdm(range(EPOCH)):\n",
        "\n",
        "  # loop on batches\n",
        "  for inputs, labels in dataloaders[None]:\n",
        "    inputs = inputs.to(device)\n",
        "    labels = labels.to(device)\n",
        "\n",
        "    # set the grad to zero\n",
        "    optimizer.None\n",
        "    \n",
        "    # forward part\n",
        "    # hint: using of pytorch max method (https://pytorch.org/docs/stable/generated/torch.max.html)\n",
        "    outputs = model(None)\n",
        "    _, preds = None\n",
        "\n",
        "    #  compute loss\n",
        "    loss = criterion(None, None)\n",
        "    \n",
        "    # backward part\n",
        "    loss.backward()\n",
        "\n",
        "    # update parameters\n",
        "    optimizer.step()\n",
        "\n",
        "  # you have to append loss for each epoch\n",
        "  losses.append(None)\n",
        "### END CODE HERE"
      ],
      "metadata": {
        "id": "MaimiD3B4ILt"
      },
      "execution_count": null,
      "outputs": []
    },
    {
      "cell_type": "markdown",
      "source": [
        "## Plot loss function"
      ],
      "metadata": {
        "id": "wked8jWxwvF6"
      }
    },
    {
      "cell_type": "code",
      "source": [
        "# you have to calculate losses arrayin Train part\n",
        "plt.plot(list(range(len(losses))), losses)\n",
        "plt.show()"
      ],
      "metadata": {
        "id": "3GfAppV85Bhd"
      },
      "execution_count": null,
      "outputs": []
    },
    {
      "cell_type": "markdown",
      "source": [
        "## Evaluate model"
      ],
      "metadata": {
        "id": "W9NF0ICIygXC"
      }
    },
    {
      "cell_type": "code",
      "source": [
        "### START CODE HERE\n",
        "\n",
        "def calc_accuracy(data, model):\n",
        "  corrects = 0\n",
        "\n",
        "  # for testing part you have to set model to eval mode\n",
        "  model.eval()\n",
        "  for inputs, labels in tqdm(dataloaders[data]):\n",
        "      inputs = inputs.to(device)\n",
        "      labels = labels.to(device)\n",
        "      \n",
        "      with torch.no_grad():\n",
        "        outputs = model(None)\n",
        "        _, preds = None\n",
        "        corrects += torch.sum(preds == labels.data)\n",
        "  return corrects.double() / dataset_sizes[data]\n",
        "\n",
        "### END CODE HERE"
      ],
      "metadata": {
        "id": "_DtYxBrp8_5X"
      },
      "execution_count": null,
      "outputs": []
    },
    {
      "cell_type": "code",
      "source": [
        "# accuracy of training data\n",
        "calc_accuracy(None, None)"
      ],
      "metadata": {
        "id": "CEczQlhSDH8s"
      },
      "execution_count": null,
      "outputs": []
    },
    {
      "cell_type": "code",
      "source": [
        "# accuracy of testing data\n",
        "calc_accuracy(None, None)"
      ],
      "metadata": {
        "id": "FaBRMH8GDK4w"
      },
      "execution_count": null,
      "outputs": []
    },
    {
      "cell_type": "markdown",
      "source": [
        "# Saving Model"
      ],
      "metadata": {
        "id": "dgfDRa6pzjur"
      }
    },
    {
      "cell_type": "code",
      "source": [
        "PATH = os.path.join(base_path, 'model')\n",
        "torch.save(model.state_dict(), PATH)"
      ],
      "metadata": {
        "id": "axaIXsCMzhPp"
      },
      "execution_count": null,
      "outputs": []
    },
    {
      "cell_type": "markdown",
      "source": [
        "# Loading and eval Model"
      ],
      "metadata": {
        "id": "cPZGSYXQ0CkV"
      }
    },
    {
      "cell_type": "code",
      "source": [
        "### START CODE HERE\n",
        "\n",
        "model_for_eval = models.resnet50(pretrained=None)\n",
        "model_for_eval.fc = nn.Linear(model.fc.in_features, None)\n",
        "model_for_eval.to(device)\n",
        "model_for_eval.load_state_dict(torch.load(PATH))\n",
        "\n",
        "### END CODE HERE"
      ],
      "metadata": {
        "id": "5WH_sGX30G-Q"
      },
      "execution_count": null,
      "outputs": []
    },
    {
      "cell_type": "code",
      "source": [
        "model_for_eval"
      ],
      "metadata": {
        "id": "34pzOFb51ooA"
      },
      "execution_count": null,
      "outputs": []
    },
    {
      "cell_type": "code",
      "source": [
        "# accuracy of training data by loadded model\n",
        "calc_accuracy(None, None)"
      ],
      "metadata": {
        "id": "PvhXDIv90dln"
      },
      "execution_count": null,
      "outputs": []
    },
    {
      "cell_type": "code",
      "source": [
        "# accuracy of testing data by loadded model\n",
        "calc_accuracy(None, None)"
      ],
      "metadata": {
        "id": "YX6vykni0eL9"
      },
      "execution_count": null,
      "outputs": []
    }
  ]
}